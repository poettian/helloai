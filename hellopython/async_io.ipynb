{
 "cells": [
  {
   "cell_type": "markdown",
   "metadata": {},
   "source": [
    "先看一段展示生成器（Generator）和协程（Coroutine）的代码：\n",
    "\n",
    "重点是 `n = yield r`\n",
    "\n",
    "分成两部分：\n",
    "\n",
    "1. `yield r` 是将 `r` 返回给外部调用程序，交出控制权，暂停；\n",
    "2. `n = yield` 可以接收外部程序通过 `send()` 发送的信息，并赋值给 `n`"
   ]
  },
  {
   "cell_type": "code",
   "execution_count": 6,
   "metadata": {},
   "outputs": [
    {
     "name": "stdout",
     "output_type": "stream",
     "text": [
      "[CONSUMER] Waiting...\n",
      "[PRODUCER] Start...\n",
      "[PRODUCER] Producing 1...\n",
      "[CONSUMER] Consuming 1...\n",
      "[CONSUMER] Waiting...\n",
      "[PRODUCER] Consumer return: 200 OK\n",
      "[PRODUCER] Producing 2...\n",
      "[CONSUMER] Consuming 2...\n",
      "[CONSUMER] Waiting...\n",
      "[PRODUCER] Consumer return: 200 OK\n",
      "[PRODUCER] Producing 3...\n",
      "[CONSUMER] Consuming 3...\n",
      "[CONSUMER] Waiting...\n",
      "[PRODUCER] Consumer return: 200 OK\n",
      "[PRODUCER] Producing 4...\n",
      "[CONSUMER] Consuming 4...\n",
      "[CONSUMER] Waiting...\n",
      "[PRODUCER] Consumer return: 200 OK\n",
      "[PRODUCER] Producing 5...\n",
      "[CONSUMER] Consuming 5...\n",
      "[CONSUMER] Waiting...\n",
      "[PRODUCER] Consumer return: 200 OK\n"
     ]
    }
   ],
   "source": [
    "def consumer():\n",
    "    r = ''\n",
    "    while True:\n",
    "        print('[CONSUMER] Waiting...')\n",
    "        n = yield r\n",
    "        if not n:\n",
    "            return\n",
    "        print('[CONSUMER] Consuming %s...' % n)\n",
    "        r = '200 OK'\n",
    "\n",
    "def produce(c):\n",
    "    c.send(None)\n",
    "    print('[PRODUCER] Start...')\n",
    "    n = 0\n",
    "    while n < 5:\n",
    "        n = n + 1\n",
    "        print('[PRODUCER] Producing %s...' % n)\n",
    "        r = c.send(n)\n",
    "        print('[PRODUCER] Consumer return: %s' % r)\n",
    "    c.close()\n",
    "\n",
    "c = consumer()\n",
    "produce(c)"
   ]
  },
  {
   "cell_type": "code",
   "execution_count": null,
   "metadata": {},
   "outputs": [],
   "source": [
    "import asyncio\n",
    "import threading\n",
    "\n",
    "# 传入name参数:\n",
    "async def hello(name):\n",
    "    # 打印name和当前线程:\n",
    "    print(\"Hello %s! (%s)\" % (name, threading.current_thread))\n",
    "    # 异步调用asyncio.sleep(1):\n",
    "    await asyncio.sleep(1)\n",
    "    print(\"Hello %s again! (%s)\" % (name, threading.current_thread))\n",
    "    return name\n",
    "\n",
    "async def main():\n",
    "    L = await asyncio.gather(hello(\"Bob\"), hello(\"Alice\"))\n",
    "    print(L)\n",
    "\n",
    "asyncio.run(main())"
   ]
  },
  {
   "cell_type": "markdown",
   "metadata": {},
   "source": [
    "大模型对上面代码的解读：\n",
    "\n",
    "在 Python 中，异步函数只能在另一个异步函数中被 await 调用。\n",
    "\n",
    "因此，main 函数必须是异步的，以便能够使用 await asyncio.gather(...) 来并发地运行 hello 函数。"
   ]
  }
 ],
 "metadata": {
  "language_info": {
   "name": "python"
  }
 },
 "nbformat": 4,
 "nbformat_minor": 2
}
