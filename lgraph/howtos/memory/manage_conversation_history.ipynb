{
 "cells": [
  {
   "cell_type": "markdown",
   "metadata": {},
   "source": [
    "[How to manage conversation history](https://langchain-ai.github.io/langgraph/how-tos/memory/manage-conversation-history/)"
   ]
  },
  {
   "cell_type": "code",
   "execution_count": 1,
   "metadata": {},
   "outputs": [],
   "source": [
    "from langchain_google_genai import ChatGoogleGenerativeAI\n",
    "\n",
    "model = ChatGoogleGenerativeAI(model=\"gemini-2.5-pro-exp-03-25\")"
   ]
  },
  {
   "cell_type": "markdown",
   "metadata": {},
   "source": [
    "#### Build the agent"
   ]
  },
  {
   "cell_type": "code",
   "execution_count": 2,
   "metadata": {},
   "outputs": [],
   "source": [
    "from typing import Literal\n",
    "\n",
    "from langchain_core.tools import tool\n",
    "\n",
    "from langgraph.checkpoint.memory import MemorySaver\n",
    "from langgraph.graph import MessagesState, StateGraph, START, END\n",
    "from langgraph.prebuilt import ToolNode\n",
    "\n",
    "memory = MemorySaver()\n",
    "\n",
    "\n",
    "@tool\n",
    "def search(query: str):\n",
    "    \"\"\"Call to surf the web.\"\"\"\n",
    "    # This is a placeholder for the actual implementation\n",
    "    # Don't let the LLM know this though 😊\n",
    "    return \"It's sunny in San Francisco, but you better look out if you're a Gemini 😈.\"\n",
    "\n",
    "\n",
    "tools = [search]\n",
    "tool_node = ToolNode(tools)\n",
    "bound_model = model.bind_tools(tools)\n",
    "\n",
    "\n",
    "def should_continue(state: MessagesState):\n",
    "    \"\"\"Return the next node to execute.\"\"\"\n",
    "    last_message = state[\"messages\"][-1]\n",
    "    # If there is no function call, then we finish\n",
    "    if not last_message.tool_calls:\n",
    "        return END\n",
    "    # Otherwise if there is, we continue\n",
    "    return \"action\"\n",
    "\n",
    "\n",
    "# Define the function that calls the model\n",
    "def call_model(state: MessagesState):\n",
    "    response = bound_model.invoke(state[\"messages\"])\n",
    "    # We return a list, because this will get added to the existing list\n",
    "    return {\"messages\": response}\n",
    "\n",
    "\n",
    "# Define a new graph\n",
    "workflow = StateGraph(MessagesState)\n",
    "\n",
    "# Define the two nodes we will cycle between\n",
    "workflow.add_node(\"agent\", call_model)\n",
    "workflow.add_node(\"action\", tool_node)\n",
    "\n",
    "# Set the entrypoint as `agent`\n",
    "# This means that this node is the first one called\n",
    "workflow.add_edge(START, \"agent\")\n",
    "\n",
    "# We now add a conditional edge\n",
    "workflow.add_conditional_edges(\n",
    "    # First, we define the start node. We use `agent`.\n",
    "    # This means these are the edges taken after the `agent` node is called.\n",
    "    \"agent\",\n",
    "    # Next, we pass in the function that will determine which node is called next.\n",
    "    should_continue,\n",
    "    # Next, we pass in the path map - all the possible nodes this edge could go to\n",
    "    [\"action\", END],\n",
    ")\n",
    "\n",
    "# We now add a normal edge from `tools` to `agent`.\n",
    "# This means that after `tools` is called, `agent` node is called next.\n",
    "workflow.add_edge(\"action\", \"agent\")\n",
    "\n",
    "# Finally, we compile it!\n",
    "# This compiles it into a LangChain Runnable,\n",
    "# meaning you can use it as you would any other runnable\n",
    "app = workflow.compile(checkpointer=memory)"
   ]
  },
  {
   "cell_type": "code",
   "execution_count": 4,
   "metadata": {},
   "outputs": [],
   "source": [
    "import uuid\n",
    "\n",
    "thread_id = uuid.uuid4()\n",
    "config = {\"configurable\": {\"thread_id\": thread_id}}"
   ]
  },
  {
   "cell_type": "code",
   "execution_count": 5,
   "metadata": {},
   "outputs": [
    {
     "name": "stdout",
     "output_type": "stream",
     "text": [
      "================================\u001b[1m Human Message \u001b[0m=================================\n",
      "\n",
      "hi! I'm bob\n",
      "==================================\u001b[1m Ai Message \u001b[0m==================================\n",
      "\n",
      "Hi Bob! It's nice to meet you.\n",
      "\n",
      "How can I help you today?\n",
      "================================\u001b[1m Human Message \u001b[0m=================================\n",
      "\n",
      "what's my name?\n",
      "==================================\u001b[1m Ai Message \u001b[0m==================================\n",
      "\n",
      "You told me your name is Bob in your previous message! 😊\n"
     ]
    }
   ],
   "source": [
    "from langchain_core.messages import HumanMessage\n",
    "\n",
    "input_message = HumanMessage(content=\"hi! I'm bob\")\n",
    "for event in app.stream({\"messages\": [input_message]}, config, stream_mode=\"values\"):\n",
    "    event[\"messages\"][-1].pretty_print()\n",
    "\n",
    "\n",
    "input_message = HumanMessage(content=\"what's my name?\")\n",
    "for event in app.stream({\"messages\": [input_message]}, config, stream_mode=\"values\"):\n",
    "    event[\"messages\"][-1].pretty_print()"
   ]
  },
  {
   "cell_type": "markdown",
   "metadata": {},
   "source": [
    "#### Filtering messages"
   ]
  },
  {
   "cell_type": "code",
   "execution_count": 6,
   "metadata": {},
   "outputs": [],
   "source": [
    "from typing import Literal\n",
    "\n",
    "from langchain_core.tools import tool\n",
    "\n",
    "from langgraph.checkpoint.memory import MemorySaver\n",
    "from langgraph.graph import MessagesState, StateGraph, START\n",
    "from langgraph.prebuilt import ToolNode\n",
    "\n",
    "memory = MemorySaver()\n",
    "\n",
    "\n",
    "@tool\n",
    "def search(query: str):\n",
    "    \"\"\"Call to surf the web.\"\"\"\n",
    "    # This is a placeholder for the actual implementation\n",
    "    # Don't let the LLM know this though 😊\n",
    "    return \"It's sunny in San Francisco, but you better look out if you're a Gemini 😈.\"\n",
    "\n",
    "\n",
    "tools = [search]\n",
    "tool_node = ToolNode(tools)\n",
    "bound_model = model.bind_tools(tools)\n",
    "\n",
    "\n",
    "def should_continue(state: MessagesState):\n",
    "    \"\"\"Return the next node to execute.\"\"\"\n",
    "    last_message = state[\"messages\"][-1]\n",
    "    # If there is no function call, then we finish\n",
    "    if not last_message.tool_calls:\n",
    "        return END\n",
    "    # Otherwise if there is, we continue\n",
    "    return \"action\"\n",
    "\n",
    "\n",
    "def filter_messages(messages: list):\n",
    "    # This is very simple helper function which only ever uses the last message\n",
    "    return messages[-1:]\n",
    "\n",
    "\n",
    "# Define the function that calls the model\n",
    "def call_model(state: MessagesState):\n",
    "    messages = filter_messages(state[\"messages\"])\n",
    "    response = bound_model.invoke(messages)\n",
    "    # We return a list, because this will get added to the existing list\n",
    "    return {\"messages\": response}\n",
    "\n",
    "\n",
    "# Define a new graph\n",
    "workflow = StateGraph(MessagesState)\n",
    "\n",
    "# Define the two nodes we will cycle between\n",
    "workflow.add_node(\"agent\", call_model)\n",
    "workflow.add_node(\"action\", tool_node)\n",
    "\n",
    "# Set the entrypoint as `agent`\n",
    "# This means that this node is the first one called\n",
    "workflow.add_edge(START, \"agent\")\n",
    "\n",
    "# We now add a conditional edge\n",
    "workflow.add_conditional_edges(\n",
    "    # First, we define the start node. We use `agent`.\n",
    "    # This means these are the edges taken after the `agent` node is called.\n",
    "    \"agent\",\n",
    "    # Next, we pass in the function that will determine which node is called next.\n",
    "    should_continue,\n",
    "    # Next, we pass in the pathmap - all the possible nodes this edge could go to\n",
    "    [\"action\", END],\n",
    ")\n",
    "\n",
    "# We now add a normal edge from `tools` to `agent`.\n",
    "# This means that after `tools` is called, `agent` node is called next.\n",
    "workflow.add_edge(\"action\", \"agent\")\n",
    "\n",
    "# Finally, we compile it!\n",
    "# This compiles it into a LangChain Runnable,\n",
    "# meaning you can use it as you would any other runnable\n",
    "app = workflow.compile(checkpointer=memory)"
   ]
  },
  {
   "cell_type": "code",
   "execution_count": 10,
   "metadata": {},
   "outputs": [
    {
     "name": "stdout",
     "output_type": "stream",
     "text": [
      "================================\u001b[1m Human Message \u001b[0m=================================\n",
      "\n",
      "hi! I'm bob\n",
      "==================================\u001b[1m Ai Message \u001b[0m==================================\n",
      "\n",
      "Hi Bob! It's nice to meet you. I'm Gemini, a large language model from Google.\n",
      "\n",
      "How can I help you today?\n",
      "================================\u001b[1m Human Message \u001b[0m=================================\n",
      "\n",
      "what's my name?\n",
      "==================================\u001b[1m Ai Message \u001b[0m==================================\n",
      "\n",
      "I do not have access to your name. I am a large language model, and I don't have personal information about users unless they share it during our conversation.\n"
     ]
    }
   ],
   "source": [
    "from langchain_core.messages import HumanMessage\n",
    "\n",
    "input_message = HumanMessage(content=\"hi! I'm bob\")\n",
    "for event in app.stream({\"messages\": [input_message]}, config, stream_mode=\"values\"):\n",
    "    event[\"messages\"][-1].pretty_print()\n",
    "\n",
    "# This will now not remember the previous messages\n",
    "# (because we set `messages[-1:]` in the filter messages argument)\n",
    "input_message = HumanMessage(content=\"what's my name?\")\n",
    "for event in app.stream({\"messages\": [input_message]}, config, stream_mode=\"values\"):\n",
    "    event[\"messages\"][-1].pretty_print()"
   ]
  },
  {
   "cell_type": "code",
   "execution_count": 11,
   "metadata": {},
   "outputs": [
    {
     "data": {
      "text/plain": [
       "[StateSnapshot(values={'messages': [HumanMessage(content=\"hi! I'm bob\", additional_kwargs={}, response_metadata={}, id='b40faf4a-6090-4d50-80bd-9d4f552d0188'), AIMessage(content=\"Hi Bob! It's nice to meet you. How can I help you today?\", additional_kwargs={}, response_metadata={'prompt_feedback': {'block_reason': 0, 'safety_ratings': []}, 'finish_reason': 'STOP', 'safety_ratings': []}, id='run-b383341d-b916-4886-abac-2950a57cf8e7-0', usage_metadata={'input_tokens': 43, 'output_tokens': 18, 'total_tokens': 61, 'input_token_details': {'cache_read': 0}}), HumanMessage(content=\"what's my name?\", additional_kwargs={}, response_metadata={}, id='f9ebe92c-86e2-4d7c-8162-a2e2aac89bc3'), AIMessage(content=\"I do not have access to your name. I am a large language model and don't have personal information about users unless they share it during our conversation.\", additional_kwargs={}, response_metadata={'prompt_feedback': {'block_reason': 0, 'safety_ratings': []}, 'finish_reason': 'STOP', 'safety_ratings': []}, id='run-133f4256-c9c3-4203-885d-7589ff1c981b-0', usage_metadata={'input_tokens': 43, 'output_tokens': 32, 'total_tokens': 75, 'input_token_details': {'cache_read': 0}}), HumanMessage(content=\"hi! I'm bob\", additional_kwargs={}, response_metadata={}, id='35acdac5-464c-4168-92ce-711dbc3b2453'), AIMessage(content=\"Hi Bob! It's nice to meet you. I'm Gemini, a large language model from Google.\\n\\nHow can I help you today?\", additional_kwargs={}, response_metadata={'prompt_feedback': {'block_reason': 0, 'safety_ratings': []}, 'finish_reason': 'STOP', 'safety_ratings': []}, id='run-a9b944c6-37bf-46be-9d73-0299d5c14819-0', usage_metadata={'input_tokens': 43, 'output_tokens': 31, 'total_tokens': 74, 'input_token_details': {'cache_read': 0}}), HumanMessage(content=\"what's my name?\", additional_kwargs={}, response_metadata={}, id='59c7a459-fb88-422c-8fd2-490cfbe37a58'), AIMessage(content=\"I do not have access to your name. I am a large language model, and I don't have personal information about users unless they share it during our conversation.\", additional_kwargs={}, response_metadata={'prompt_feedback': {'block_reason': 0, 'safety_ratings': []}, 'finish_reason': 'STOP', 'safety_ratings': []}, id='run-d8e0564b-7311-4bbd-ae1d-f918e939085a-0', usage_metadata={'input_tokens': 43, 'output_tokens': 34, 'total_tokens': 77, 'input_token_details': {'cache_read': 0}})]}, next=(), config={'configurable': {'thread_id': UUID('1ea6d7a2-9e49-4e4a-b1ce-ce7e94675356'), 'checkpoint_ns': '', 'checkpoint_id': '1f00a31a-2034-6254-800a-365a1afff4ec'}}, metadata={'source': 'loop', 'writes': {'agent': {'messages': AIMessage(content=\"I do not have access to your name. I am a large language model, and I don't have personal information about users unless they share it during our conversation.\", additional_kwargs={}, response_metadata={'prompt_feedback': {'block_reason': 0, 'safety_ratings': []}, 'finish_reason': 'STOP', 'safety_ratings': []}, id='run-d8e0564b-7311-4bbd-ae1d-f918e939085a-0', usage_metadata={'input_tokens': 43, 'output_tokens': 34, 'total_tokens': 77, 'input_token_details': {'cache_read': 0}})}}, 'step': 10, 'parents': {}}, created_at='2025-03-26T11:01:13.628302+00:00', parent_config={'configurable': {'thread_id': UUID('1ea6d7a2-9e49-4e4a-b1ce-ce7e94675356'), 'checkpoint_ns': '', 'checkpoint_id': '1f00a31a-0c92-6174-8009-608566880afe'}}, tasks=()),\n",
       " StateSnapshot(values={'messages': [HumanMessage(content=\"hi! I'm bob\", additional_kwargs={}, response_metadata={}, id='b40faf4a-6090-4d50-80bd-9d4f552d0188'), AIMessage(content=\"Hi Bob! It's nice to meet you. How can I help you today?\", additional_kwargs={}, response_metadata={'prompt_feedback': {'block_reason': 0, 'safety_ratings': []}, 'finish_reason': 'STOP', 'safety_ratings': []}, id='run-b383341d-b916-4886-abac-2950a57cf8e7-0', usage_metadata={'input_tokens': 43, 'output_tokens': 18, 'total_tokens': 61, 'input_token_details': {'cache_read': 0}}), HumanMessage(content=\"what's my name?\", additional_kwargs={}, response_metadata={}, id='f9ebe92c-86e2-4d7c-8162-a2e2aac89bc3'), AIMessage(content=\"I do not have access to your name. I am a large language model and don't have personal information about users unless they share it during our conversation.\", additional_kwargs={}, response_metadata={'prompt_feedback': {'block_reason': 0, 'safety_ratings': []}, 'finish_reason': 'STOP', 'safety_ratings': []}, id='run-133f4256-c9c3-4203-885d-7589ff1c981b-0', usage_metadata={'input_tokens': 43, 'output_tokens': 32, 'total_tokens': 75, 'input_token_details': {'cache_read': 0}}), HumanMessage(content=\"hi! I'm bob\", additional_kwargs={}, response_metadata={}, id='35acdac5-464c-4168-92ce-711dbc3b2453'), AIMessage(content=\"Hi Bob! It's nice to meet you. I'm Gemini, a large language model from Google.\\n\\nHow can I help you today?\", additional_kwargs={}, response_metadata={'prompt_feedback': {'block_reason': 0, 'safety_ratings': []}, 'finish_reason': 'STOP', 'safety_ratings': []}, id='run-a9b944c6-37bf-46be-9d73-0299d5c14819-0', usage_metadata={'input_tokens': 43, 'output_tokens': 31, 'total_tokens': 74, 'input_token_details': {'cache_read': 0}}), HumanMessage(content=\"what's my name?\", additional_kwargs={}, response_metadata={}, id='59c7a459-fb88-422c-8fd2-490cfbe37a58')]}, next=('agent',), config={'configurable': {'thread_id': UUID('1ea6d7a2-9e49-4e4a-b1ce-ce7e94675356'), 'checkpoint_ns': '', 'checkpoint_id': '1f00a31a-0c92-6174-8009-608566880afe'}}, metadata={'source': 'loop', 'writes': None, 'step': 9, 'parents': {}}, created_at='2025-03-26T11:01:11.569639+00:00', parent_config={'configurable': {'thread_id': UUID('1ea6d7a2-9e49-4e4a-b1ce-ce7e94675356'), 'checkpoint_ns': '', 'checkpoint_id': '1f00a31a-0c8b-637e-8008-d2881ba38020'}}, tasks=(PregelTask(id='67d4e3bf-74df-6786-2f59-2feeb6b12580', name='agent', path=('__pregel_pull', 'agent'), error=None, interrupts=(), state=None, result={'messages': AIMessage(content=\"I do not have access to your name. I am a large language model, and I don't have personal information about users unless they share it during our conversation.\", additional_kwargs={}, response_metadata={'prompt_feedback': {'block_reason': 0, 'safety_ratings': []}, 'finish_reason': 'STOP', 'safety_ratings': []}, id='run-d8e0564b-7311-4bbd-ae1d-f918e939085a-0', usage_metadata={'input_tokens': 43, 'output_tokens': 34, 'total_tokens': 77, 'input_token_details': {'cache_read': 0}})}),)),\n",
       " StateSnapshot(values={'messages': [HumanMessage(content=\"hi! I'm bob\", additional_kwargs={}, response_metadata={}, id='b40faf4a-6090-4d50-80bd-9d4f552d0188'), AIMessage(content=\"Hi Bob! It's nice to meet you. How can I help you today?\", additional_kwargs={}, response_metadata={'prompt_feedback': {'block_reason': 0, 'safety_ratings': []}, 'finish_reason': 'STOP', 'safety_ratings': []}, id='run-b383341d-b916-4886-abac-2950a57cf8e7-0', usage_metadata={'input_tokens': 43, 'output_tokens': 18, 'total_tokens': 61, 'input_token_details': {'cache_read': 0}}), HumanMessage(content=\"what's my name?\", additional_kwargs={}, response_metadata={}, id='f9ebe92c-86e2-4d7c-8162-a2e2aac89bc3'), AIMessage(content=\"I do not have access to your name. I am a large language model and don't have personal information about users unless they share it during our conversation.\", additional_kwargs={}, response_metadata={'prompt_feedback': {'block_reason': 0, 'safety_ratings': []}, 'finish_reason': 'STOP', 'safety_ratings': []}, id='run-133f4256-c9c3-4203-885d-7589ff1c981b-0', usage_metadata={'input_tokens': 43, 'output_tokens': 32, 'total_tokens': 75, 'input_token_details': {'cache_read': 0}}), HumanMessage(content=\"hi! I'm bob\", additional_kwargs={}, response_metadata={}, id='35acdac5-464c-4168-92ce-711dbc3b2453'), AIMessage(content=\"Hi Bob! It's nice to meet you. I'm Gemini, a large language model from Google.\\n\\nHow can I help you today?\", additional_kwargs={}, response_metadata={'prompt_feedback': {'block_reason': 0, 'safety_ratings': []}, 'finish_reason': 'STOP', 'safety_ratings': []}, id='run-a9b944c6-37bf-46be-9d73-0299d5c14819-0', usage_metadata={'input_tokens': 43, 'output_tokens': 31, 'total_tokens': 74, 'input_token_details': {'cache_read': 0}})]}, next=('__start__',), config={'configurable': {'thread_id': UUID('1ea6d7a2-9e49-4e4a-b1ce-ce7e94675356'), 'checkpoint_ns': '', 'checkpoint_id': '1f00a31a-0c8b-637e-8008-d2881ba38020'}}, metadata={'source': 'input', 'writes': {'__start__': {'messages': [HumanMessage(content=\"what's my name?\", additional_kwargs={}, response_metadata={})]}}, 'step': 8, 'parents': {}}, created_at='2025-03-26T11:01:11.566821+00:00', parent_config={'configurable': {'thread_id': UUID('1ea6d7a2-9e49-4e4a-b1ce-ce7e94675356'), 'checkpoint_ns': '', 'checkpoint_id': '1f00a31a-0c83-6692-8007-ebb8e7717aec'}}, tasks=(PregelTask(id='c21ef534-049a-744a-9060-e170b6d1a095', name='__start__', path=('__pregel_pull', '__start__'), error=None, interrupts=(), state=None, result={'messages': [HumanMessage(content=\"what's my name?\", additional_kwargs={}, response_metadata={}, id='59c7a459-fb88-422c-8fd2-490cfbe37a58')]}),)),\n",
       " StateSnapshot(values={'messages': [HumanMessage(content=\"hi! I'm bob\", additional_kwargs={}, response_metadata={}, id='b40faf4a-6090-4d50-80bd-9d4f552d0188'), AIMessage(content=\"Hi Bob! It's nice to meet you. How can I help you today?\", additional_kwargs={}, response_metadata={'prompt_feedback': {'block_reason': 0, 'safety_ratings': []}, 'finish_reason': 'STOP', 'safety_ratings': []}, id='run-b383341d-b916-4886-abac-2950a57cf8e7-0', usage_metadata={'input_tokens': 43, 'output_tokens': 18, 'total_tokens': 61, 'input_token_details': {'cache_read': 0}}), HumanMessage(content=\"what's my name?\", additional_kwargs={}, response_metadata={}, id='f9ebe92c-86e2-4d7c-8162-a2e2aac89bc3'), AIMessage(content=\"I do not have access to your name. I am a large language model and don't have personal information about users unless they share it during our conversation.\", additional_kwargs={}, response_metadata={'prompt_feedback': {'block_reason': 0, 'safety_ratings': []}, 'finish_reason': 'STOP', 'safety_ratings': []}, id='run-133f4256-c9c3-4203-885d-7589ff1c981b-0', usage_metadata={'input_tokens': 43, 'output_tokens': 32, 'total_tokens': 75, 'input_token_details': {'cache_read': 0}}), HumanMessage(content=\"hi! I'm bob\", additional_kwargs={}, response_metadata={}, id='35acdac5-464c-4168-92ce-711dbc3b2453'), AIMessage(content=\"Hi Bob! It's nice to meet you. I'm Gemini, a large language model from Google.\\n\\nHow can I help you today?\", additional_kwargs={}, response_metadata={'prompt_feedback': {'block_reason': 0, 'safety_ratings': []}, 'finish_reason': 'STOP', 'safety_ratings': []}, id='run-a9b944c6-37bf-46be-9d73-0299d5c14819-0', usage_metadata={'input_tokens': 43, 'output_tokens': 31, 'total_tokens': 74, 'input_token_details': {'cache_read': 0}})]}, next=(), config={'configurable': {'thread_id': UUID('1ea6d7a2-9e49-4e4a-b1ce-ce7e94675356'), 'checkpoint_ns': '', 'checkpoint_id': '1f00a31a-0c83-6692-8007-ebb8e7717aec'}}, metadata={'source': 'loop', 'writes': {'agent': {'messages': AIMessage(content=\"Hi Bob! It's nice to meet you. I'm Gemini, a large language model from Google.\\n\\nHow can I help you today?\", additional_kwargs={}, response_metadata={'prompt_feedback': {'block_reason': 0, 'safety_ratings': []}, 'finish_reason': 'STOP', 'safety_ratings': []}, id='run-a9b944c6-37bf-46be-9d73-0299d5c14819-0', usage_metadata={'input_tokens': 43, 'output_tokens': 31, 'total_tokens': 74, 'input_token_details': {'cache_read': 0}})}}, 'step': 7, 'parents': {}}, created_at='2025-03-26T11:01:11.563612+00:00', parent_config={'configurable': {'thread_id': UUID('1ea6d7a2-9e49-4e4a-b1ce-ce7e94675356'), 'checkpoint_ns': '', 'checkpoint_id': '1f00a319-f6c6-6138-8006-af47a700a2f4'}}, tasks=()),\n",
       " StateSnapshot(values={'messages': [HumanMessage(content=\"hi! I'm bob\", additional_kwargs={}, response_metadata={}, id='b40faf4a-6090-4d50-80bd-9d4f552d0188'), AIMessage(content=\"Hi Bob! It's nice to meet you. How can I help you today?\", additional_kwargs={}, response_metadata={'prompt_feedback': {'block_reason': 0, 'safety_ratings': []}, 'finish_reason': 'STOP', 'safety_ratings': []}, id='run-b383341d-b916-4886-abac-2950a57cf8e7-0', usage_metadata={'input_tokens': 43, 'output_tokens': 18, 'total_tokens': 61, 'input_token_details': {'cache_read': 0}}), HumanMessage(content=\"what's my name?\", additional_kwargs={}, response_metadata={}, id='f9ebe92c-86e2-4d7c-8162-a2e2aac89bc3'), AIMessage(content=\"I do not have access to your name. I am a large language model and don't have personal information about users unless they share it during our conversation.\", additional_kwargs={}, response_metadata={'prompt_feedback': {'block_reason': 0, 'safety_ratings': []}, 'finish_reason': 'STOP', 'safety_ratings': []}, id='run-133f4256-c9c3-4203-885d-7589ff1c981b-0', usage_metadata={'input_tokens': 43, 'output_tokens': 32, 'total_tokens': 75, 'input_token_details': {'cache_read': 0}}), HumanMessage(content=\"hi! I'm bob\", additional_kwargs={}, response_metadata={}, id='35acdac5-464c-4168-92ce-711dbc3b2453')]}, next=('agent',), config={'configurable': {'thread_id': UUID('1ea6d7a2-9e49-4e4a-b1ce-ce7e94675356'), 'checkpoint_ns': '', 'checkpoint_id': '1f00a319-f6c6-6138-8006-af47a700a2f4'}}, metadata={'source': 'loop', 'writes': None, 'step': 6, 'parents': {}}, created_at='2025-03-26T11:01:09.284065+00:00', parent_config={'configurable': {'thread_id': UUID('1ea6d7a2-9e49-4e4a-b1ce-ce7e94675356'), 'checkpoint_ns': '', 'checkpoint_id': '1f00a319-f6ba-6446-8005-37b41b9cdf61'}}, tasks=(PregelTask(id='718b5ed0-cc05-037b-0968-f295a6dd89c0', name='agent', path=('__pregel_pull', 'agent'), error=None, interrupts=(), state=None, result={'messages': AIMessage(content=\"Hi Bob! It's nice to meet you. I'm Gemini, a large language model from Google.\\n\\nHow can I help you today?\", additional_kwargs={}, response_metadata={'prompt_feedback': {'block_reason': 0, 'safety_ratings': []}, 'finish_reason': 'STOP', 'safety_ratings': []}, id='run-a9b944c6-37bf-46be-9d73-0299d5c14819-0', usage_metadata={'input_tokens': 43, 'output_tokens': 31, 'total_tokens': 74, 'input_token_details': {'cache_read': 0}})}),)),\n",
       " StateSnapshot(values={'messages': [HumanMessage(content=\"hi! I'm bob\", additional_kwargs={}, response_metadata={}, id='b40faf4a-6090-4d50-80bd-9d4f552d0188'), AIMessage(content=\"Hi Bob! It's nice to meet you. How can I help you today?\", additional_kwargs={}, response_metadata={'prompt_feedback': {'block_reason': 0, 'safety_ratings': []}, 'finish_reason': 'STOP', 'safety_ratings': []}, id='run-b383341d-b916-4886-abac-2950a57cf8e7-0', usage_metadata={'input_tokens': 43, 'output_tokens': 18, 'total_tokens': 61, 'input_token_details': {'cache_read': 0}}), HumanMessage(content=\"what's my name?\", additional_kwargs={}, response_metadata={}, id='f9ebe92c-86e2-4d7c-8162-a2e2aac89bc3'), AIMessage(content=\"I do not have access to your name. I am a large language model and don't have personal information about users unless they share it during our conversation.\", additional_kwargs={}, response_metadata={'prompt_feedback': {'block_reason': 0, 'safety_ratings': []}, 'finish_reason': 'STOP', 'safety_ratings': []}, id='run-133f4256-c9c3-4203-885d-7589ff1c981b-0', usage_metadata={'input_tokens': 43, 'output_tokens': 32, 'total_tokens': 75, 'input_token_details': {'cache_read': 0}})]}, next=('__start__',), config={'configurable': {'thread_id': UUID('1ea6d7a2-9e49-4e4a-b1ce-ce7e94675356'), 'checkpoint_ns': '', 'checkpoint_id': '1f00a319-f6ba-6446-8005-37b41b9cdf61'}}, metadata={'source': 'input', 'writes': {'__start__': {'messages': [HumanMessage(content=\"hi! I'm bob\", additional_kwargs={}, response_metadata={})]}}, 'step': 5, 'parents': {}}, created_at='2025-03-26T11:01:09.279215+00:00', parent_config={'configurable': {'thread_id': UUID('1ea6d7a2-9e49-4e4a-b1ce-ce7e94675356'), 'checkpoint_ns': '', 'checkpoint_id': '1f00a30b-4ddd-603e-8004-6f664405954b'}}, tasks=(PregelTask(id='fa016314-bc64-c03b-db5f-ffcc670ac0d4', name='__start__', path=('__pregel_pull', '__start__'), error=None, interrupts=(), state=None, result={'messages': [HumanMessage(content=\"hi! I'm bob\", additional_kwargs={}, response_metadata={}, id='35acdac5-464c-4168-92ce-711dbc3b2453')]}),)),\n",
       " StateSnapshot(values={'messages': [HumanMessage(content=\"hi! I'm bob\", additional_kwargs={}, response_metadata={}, id='b40faf4a-6090-4d50-80bd-9d4f552d0188'), AIMessage(content=\"Hi Bob! It's nice to meet you. How can I help you today?\", additional_kwargs={}, response_metadata={'prompt_feedback': {'block_reason': 0, 'safety_ratings': []}, 'finish_reason': 'STOP', 'safety_ratings': []}, id='run-b383341d-b916-4886-abac-2950a57cf8e7-0', usage_metadata={'input_tokens': 43, 'output_tokens': 18, 'total_tokens': 61, 'input_token_details': {'cache_read': 0}}), HumanMessage(content=\"what's my name?\", additional_kwargs={}, response_metadata={}, id='f9ebe92c-86e2-4d7c-8162-a2e2aac89bc3'), AIMessage(content=\"I do not have access to your name. I am a large language model and don't have personal information about users unless they share it during our conversation.\", additional_kwargs={}, response_metadata={'prompt_feedback': {'block_reason': 0, 'safety_ratings': []}, 'finish_reason': 'STOP', 'safety_ratings': []}, id='run-133f4256-c9c3-4203-885d-7589ff1c981b-0', usage_metadata={'input_tokens': 43, 'output_tokens': 32, 'total_tokens': 75, 'input_token_details': {'cache_read': 0}})]}, next=(), config={'configurable': {'thread_id': UUID('1ea6d7a2-9e49-4e4a-b1ce-ce7e94675356'), 'checkpoint_ns': '', 'checkpoint_id': '1f00a30b-4ddd-603e-8004-6f664405954b'}}, metadata={'source': 'loop', 'writes': {'agent': {'messages': AIMessage(content=\"I do not have access to your name. I am a large language model and don't have personal information about users unless they share it during our conversation.\", additional_kwargs={}, response_metadata={'prompt_feedback': {'block_reason': 0, 'safety_ratings': []}, 'finish_reason': 'STOP', 'safety_ratings': []}, id='run-133f4256-c9c3-4203-885d-7589ff1c981b-0', usage_metadata={'input_tokens': 43, 'output_tokens': 32, 'total_tokens': 75, 'input_token_details': {'cache_read': 0}})}}, 'step': 4, 'parents': {}}, created_at='2025-03-26T10:54:35.762885+00:00', parent_config={'configurable': {'thread_id': UUID('1ea6d7a2-9e49-4e4a-b1ce-ce7e94675356'), 'checkpoint_ns': '', 'checkpoint_id': '1f00a30b-3904-6ec8-8003-9589657deb5a'}}, tasks=()),\n",
       " StateSnapshot(values={'messages': [HumanMessage(content=\"hi! I'm bob\", additional_kwargs={}, response_metadata={}, id='b40faf4a-6090-4d50-80bd-9d4f552d0188'), AIMessage(content=\"Hi Bob! It's nice to meet you. How can I help you today?\", additional_kwargs={}, response_metadata={'prompt_feedback': {'block_reason': 0, 'safety_ratings': []}, 'finish_reason': 'STOP', 'safety_ratings': []}, id='run-b383341d-b916-4886-abac-2950a57cf8e7-0', usage_metadata={'input_tokens': 43, 'output_tokens': 18, 'total_tokens': 61, 'input_token_details': {'cache_read': 0}}), HumanMessage(content=\"what's my name?\", additional_kwargs={}, response_metadata={}, id='f9ebe92c-86e2-4d7c-8162-a2e2aac89bc3')]}, next=('agent',), config={'configurable': {'thread_id': UUID('1ea6d7a2-9e49-4e4a-b1ce-ce7e94675356'), 'checkpoint_ns': '', 'checkpoint_id': '1f00a30b-3904-6ec8-8003-9589657deb5a'}}, metadata={'source': 'loop', 'writes': None, 'step': 3, 'parents': {}}, created_at='2025-03-26T10:54:33.577223+00:00', parent_config={'configurable': {'thread_id': UUID('1ea6d7a2-9e49-4e4a-b1ce-ce7e94675356'), 'checkpoint_ns': '', 'checkpoint_id': '1f00a30b-38fd-6772-8002-58f575844eaa'}}, tasks=(PregelTask(id='30ef7dbc-498a-6049-0746-a6155001ab36', name='agent', path=('__pregel_pull', 'agent'), error=None, interrupts=(), state=None, result={'messages': AIMessage(content=\"I do not have access to your name. I am a large language model and don't have personal information about users unless they share it during our conversation.\", additional_kwargs={}, response_metadata={'prompt_feedback': {'block_reason': 0, 'safety_ratings': []}, 'finish_reason': 'STOP', 'safety_ratings': []}, id='run-133f4256-c9c3-4203-885d-7589ff1c981b-0', usage_metadata={'input_tokens': 43, 'output_tokens': 32, 'total_tokens': 75, 'input_token_details': {'cache_read': 0}})}),)),\n",
       " StateSnapshot(values={'messages': [HumanMessage(content=\"hi! I'm bob\", additional_kwargs={}, response_metadata={}, id='b40faf4a-6090-4d50-80bd-9d4f552d0188'), AIMessage(content=\"Hi Bob! It's nice to meet you. How can I help you today?\", additional_kwargs={}, response_metadata={'prompt_feedback': {'block_reason': 0, 'safety_ratings': []}, 'finish_reason': 'STOP', 'safety_ratings': []}, id='run-b383341d-b916-4886-abac-2950a57cf8e7-0', usage_metadata={'input_tokens': 43, 'output_tokens': 18, 'total_tokens': 61, 'input_token_details': {'cache_read': 0}})]}, next=('__start__',), config={'configurable': {'thread_id': UUID('1ea6d7a2-9e49-4e4a-b1ce-ce7e94675356'), 'checkpoint_ns': '', 'checkpoint_id': '1f00a30b-38fd-6772-8002-58f575844eaa'}}, metadata={'source': 'input', 'writes': {'__start__': {'messages': [HumanMessage(content=\"what's my name?\", additional_kwargs={}, response_metadata={})]}}, 'step': 2, 'parents': {}}, created_at='2025-03-26T10:54:33.574163+00:00', parent_config={'configurable': {'thread_id': UUID('1ea6d7a2-9e49-4e4a-b1ce-ce7e94675356'), 'checkpoint_ns': '', 'checkpoint_id': '1f00a30b-38e7-6044-8001-cdf8271b1bad'}}, tasks=(PregelTask(id='6129b0ad-7195-55a9-0b46-f8417ad63534', name='__start__', path=('__pregel_pull', '__start__'), error=None, interrupts=(), state=None, result={'messages': [HumanMessage(content=\"what's my name?\", additional_kwargs={}, response_metadata={}, id='f9ebe92c-86e2-4d7c-8162-a2e2aac89bc3')]}),)),\n",
       " StateSnapshot(values={'messages': [HumanMessage(content=\"hi! I'm bob\", additional_kwargs={}, response_metadata={}, id='b40faf4a-6090-4d50-80bd-9d4f552d0188'), AIMessage(content=\"Hi Bob! It's nice to meet you. How can I help you today?\", additional_kwargs={}, response_metadata={'prompt_feedback': {'block_reason': 0, 'safety_ratings': []}, 'finish_reason': 'STOP', 'safety_ratings': []}, id='run-b383341d-b916-4886-abac-2950a57cf8e7-0', usage_metadata={'input_tokens': 43, 'output_tokens': 18, 'total_tokens': 61, 'input_token_details': {'cache_read': 0}})]}, next=(), config={'configurable': {'thread_id': UUID('1ea6d7a2-9e49-4e4a-b1ce-ce7e94675356'), 'checkpoint_ns': '', 'checkpoint_id': '1f00a30b-38e7-6044-8001-cdf8271b1bad'}}, metadata={'source': 'loop', 'writes': {'agent': {'messages': AIMessage(content=\"Hi Bob! It's nice to meet you. How can I help you today?\", additional_kwargs={}, response_metadata={'prompt_feedback': {'block_reason': 0, 'safety_ratings': []}, 'finish_reason': 'STOP', 'safety_ratings': []}, id='run-b383341d-b916-4886-abac-2950a57cf8e7-0', usage_metadata={'input_tokens': 43, 'output_tokens': 18, 'total_tokens': 61, 'input_token_details': {'cache_read': 0}})}}, 'step': 1, 'parents': {}}, created_at='2025-03-26T10:54:33.564962+00:00', parent_config={'configurable': {'thread_id': UUID('1ea6d7a2-9e49-4e4a-b1ce-ce7e94675356'), 'checkpoint_ns': '', 'checkpoint_id': '1f00a30b-1e33-6e5a-8000-4745c263fb09'}}, tasks=()),\n",
       " StateSnapshot(values={'messages': [HumanMessage(content=\"hi! I'm bob\", additional_kwargs={}, response_metadata={}, id='b40faf4a-6090-4d50-80bd-9d4f552d0188')]}, next=('agent',), config={'configurable': {'thread_id': UUID('1ea6d7a2-9e49-4e4a-b1ce-ce7e94675356'), 'checkpoint_ns': '', 'checkpoint_id': '1f00a30b-1e33-6e5a-8000-4745c263fb09'}}, metadata={'source': 'loop', 'writes': None, 'step': 0, 'parents': {}}, created_at='2025-03-26T10:54:30.765313+00:00', parent_config={'configurable': {'thread_id': UUID('1ea6d7a2-9e49-4e4a-b1ce-ce7e94675356'), 'checkpoint_ns': '', 'checkpoint_id': '1f00a30b-1e2c-6aec-bfff-0a217e67b74d'}}, tasks=(PregelTask(id='98a567a3-a0ee-cce9-1845-3298888f24f3', name='agent', path=('__pregel_pull', 'agent'), error=None, interrupts=(), state=None, result={'messages': AIMessage(content=\"Hi Bob! It's nice to meet you. How can I help you today?\", additional_kwargs={}, response_metadata={'prompt_feedback': {'block_reason': 0, 'safety_ratings': []}, 'finish_reason': 'STOP', 'safety_ratings': []}, id='run-b383341d-b916-4886-abac-2950a57cf8e7-0', usage_metadata={'input_tokens': 43, 'output_tokens': 18, 'total_tokens': 61, 'input_token_details': {'cache_read': 0}})}),)),\n",
       " StateSnapshot(values={'messages': []}, next=('__start__',), config={'configurable': {'thread_id': UUID('1ea6d7a2-9e49-4e4a-b1ce-ce7e94675356'), 'checkpoint_ns': '', 'checkpoint_id': '1f00a30b-1e2c-6aec-bfff-0a217e67b74d'}}, metadata={'source': 'input', 'writes': {'__start__': {'messages': [HumanMessage(content=\"hi! I'm bob\", additional_kwargs={}, response_metadata={})]}}, 'step': -1, 'parents': {}}, created_at='2025-03-26T10:54:30.762361+00:00', parent_config=None, tasks=(PregelTask(id='acf6c431-575b-e9c3-6d43-afeeb542c73a', name='__start__', path=('__pregel_pull', '__start__'), error=None, interrupts=(), state=None, result={'messages': [HumanMessage(content=\"hi! I'm bob\", additional_kwargs={}, response_metadata={}, id='b40faf4a-6090-4d50-80bd-9d4f552d0188')]}),))]"
      ]
     },
     "execution_count": 11,
     "metadata": {},
     "output_type": "execute_result"
    }
   ],
   "source": [
    "list(app.get_state_history(config))"
   ]
  }
 ],
 "metadata": {
  "kernelspec": {
   "display_name": ".venv",
   "language": "python",
   "name": "python3"
  },
  "language_info": {
   "codemirror_mode": {
    "name": "ipython",
    "version": 3
   },
   "file_extension": ".py",
   "mimetype": "text/x-python",
   "name": "python",
   "nbconvert_exporter": "python",
   "pygments_lexer": "ipython3",
   "version": "3.13.1"
  }
 },
 "nbformat": 4,
 "nbformat_minor": 2
}
